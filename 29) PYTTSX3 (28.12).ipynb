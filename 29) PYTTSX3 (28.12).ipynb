{
 "cells": [
  {
   "cell_type": "code",
   "execution_count": 8,
   "id": "606f9b22-8c6c-477e-9cbb-427f28dc3bc0",
   "metadata": {},
   "outputs": [],
   "source": [
    "# !pip install pyttsx3"
   ]
  },
  {
   "cell_type": "code",
   "execution_count": 10,
   "id": "57a1de81-d41c-43fc-86de-a12b71042791",
   "metadata": {},
   "outputs": [],
   "source": [
    "import pyttsx3\n",
    "from IPython.display import Audio\n",
    "\n",
    "text='''welcome to naresh technology data science programme under prakash senapati guidance.\n",
    "                        classes will help practicle exposure to boost up technical skill\n",
    "                        and increase learning for coding skills. we conduct this programme for\n",
    "                        both non-technical and technical learners. Thank you.'''\n",
    "\n",
    "audio=pyttsx3.init()\n",
    "audio.setProperty('rate',150)\n",
    "audio.setProperty('volume',0.8)\n",
    "\n",
    "voice=audio.getProperty('voices')\n",
    "\n",
    "audio.setProperty('voice',voice[0].id)  # male\n",
    "# audio.setProperty('voice',voice[1].id)  # female\n",
    "\n",
    "audio.say(text)\n",
    "\n",
    "audio.save_to_file(text, 'test_male_Voice.mp3')\n",
    "# audio.save_to_file(text, 'test_female_Voice.mp3')\n",
    "\n",
    "audio.runAndWait()"
   ]
  },
  {
   "cell_type": "code",
   "execution_count": null,
   "id": "fd9eba1c-43e0-47ed-9fda-557ed05730c8",
   "metadata": {},
   "outputs": [],
   "source": []
  }
 ],
 "metadata": {
  "kernelspec": {
   "display_name": "Python 3 (ipykernel)",
   "language": "python",
   "name": "python3"
  },
  "language_info": {
   "codemirror_mode": {
    "name": "ipython",
    "version": 3
   },
   "file_extension": ".py",
   "mimetype": "text/x-python",
   "name": "python",
   "nbconvert_exporter": "python",
   "pygments_lexer": "ipython3",
   "version": "3.12.4"
  }
 },
 "nbformat": 4,
 "nbformat_minor": 5
}
