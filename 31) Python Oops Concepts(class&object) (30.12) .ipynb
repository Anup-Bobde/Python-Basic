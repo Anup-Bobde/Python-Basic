{
 "cells": [
  {
   "cell_type": "code",
   "execution_count": 2,
   "id": "3bd47f14-d279-43d7-a14c-db433551c16a",
   "metadata": {},
   "outputs": [
    {
     "name": "stdout",
     "output_type": "stream",
     "text": [
      "<class 'int'>\n"
     ]
    }
   ],
   "source": [
    "a = 5\n",
    "print(type(a))"
   ]
  },
  {
   "cell_type": "code",
   "execution_count": 3,
   "id": "07a5cbd1-6082-4396-b98f-5155bd612b8d",
   "metadata": {},
   "outputs": [
    {
     "name": "stdout",
     "output_type": "stream",
     "text": [
      "<class 'list'>\n"
     ]
    }
   ],
   "source": [
    "a1 = [5,6]\n",
    "print(type(a1))"
   ]
  },
  {
   "cell_type": "code",
   "execution_count": 4,
   "id": "36e0d964-04f7-472a-841c-4cbee5fbc17f",
   "metadata": {},
   "outputs": [
    {
     "data": {
      "text/plain": [
       "<__main__.computer at 0x2a45321dc50>"
      ]
     },
     "execution_count": 4,
     "metadata": {},
     "output_type": "execute_result"
    }
   ],
   "source": [
    "class computer:     # computer is the class\n",
    "    def config():   # config is the methos   \n",
    "        print('i5', '8gb')\n",
    "\n",
    "com1 = computer()\n",
    "com1"
   ]
  },
  {
   "cell_type": "code",
   "execution_count": 5,
   "id": "fa2103ef-76c9-4cc5-951d-63857a67374e",
   "metadata": {},
   "outputs": [
    {
     "name": "stdout",
     "output_type": "stream",
     "text": [
      "i5 8gb\n"
     ]
    }
   ],
   "source": [
    "class computer:     # computer is the class\n",
    "    def config():   # config is the methos   \n",
    "        print('i5', '8gb')\n",
    "\n",
    "com1 = computer()\n",
    "\n",
    "computer.config()    # Function call using class name, here doesn't require 'self' keyword in config() "
   ]
  },
  {
   "cell_type": "code",
   "execution_count": 11,
   "id": "5fe80a17-2eb4-4015-adfe-c826cfdc2366",
   "metadata": {},
   "outputs": [
    {
     "name": "stdout",
     "output_type": "stream",
     "text": [
      "i5 8gb\n"
     ]
    }
   ],
   "source": [
    "class computer:     # computer is the class\n",
    "    def config(self):   # config is the methos   \n",
    "        print('i5', '8gb')\n",
    "\n",
    "com1 = computer()\n",
    "\n",
    "com1.config()    # Function call using object com1, here there is requirement 'self' keyword in config()"
   ]
  },
  {
   "cell_type": "code",
   "execution_count": 15,
   "id": "76c06cb9-eecd-45b6-abe6-a88e3d5d1032",
   "metadata": {},
   "outputs": [
    {
     "name": "stdout",
     "output_type": "stream",
     "text": [
      "i5 8gb\n",
      "i5 8gb\n",
      "i5 8gb\n",
      "2904792629776\n",
      "2904800850384\n",
      "2904800388560\n"
     ]
    }
   ],
   "source": [
    "class computer:     # computer is the class\n",
    "    def config(self):   # config is the methos   \n",
    "        print('i5', '8gb')\n",
    "\n",
    "\n",
    "\n",
    "com1 = computer()\n",
    "com2 = computer()\n",
    "com3 = computer()\n",
    "\n",
    "com1.config()\n",
    "com2.config()\n",
    "com3.config()\n",
    "\n",
    "print(id(com1))    # com1,com2,com3 having different memory locations\n",
    "print(id(com2))\n",
    "print(id(com3))"
   ]
  },
  {
   "cell_type": "code",
   "execution_count": 20,
   "id": "259b5fad-4878-469c-ad29-9bb5a168699d",
   "metadata": {},
   "outputs": [
    {
     "name": "stdout",
     "output_type": "stream",
     "text": [
      "i5 8gb\n",
      "i7 16gb\n"
     ]
    }
   ],
   "source": [
    "class computer:     # computer is the class\n",
    "    def __init__(self):   # __init__ special method (constructor)   \n",
    "        print('i5', '8gb')\n",
    "\n",
    "    def config(self):\n",
    "        print('i7', \"16gb\")\n",
    "\n",
    "com1 = computer()    # __init__ is called automatically when object is created,no need to call it\n",
    "\n",
    "com1.config()"
   ]
  },
  {
   "cell_type": "code",
   "execution_count": 1,
   "id": "38fa6314-709f-4f09-b45c-97136a89e27a",
   "metadata": {},
   "outputs": [
    {
     "name": "stdout",
     "output_type": "stream",
     "text": [
      "i7 16gb\n",
      "i7 16gb\n"
     ]
    }
   ],
   "source": [
    "class computer:\n",
    "    def __init__(self):\n",
    "        print('i7', '16gb')\n",
    "       \n",
    "c1 = computer()\n",
    "\n",
    "c1.__init__()  # We can also call __init__ function \n"
   ]
  },
  {
   "cell_type": "code",
   "execution_count": 31,
   "id": "42ffb467-d6cf-4a55-891b-4c4d1a6b33ad",
   "metadata": {},
   "outputs": [
    {
     "name": "stdout",
     "output_type": "stream",
     "text": [
      "in init\n",
      "in init\n",
      "in init\n"
     ]
    }
   ],
   "source": [
    "class computer:        \n",
    "    \n",
    "    def __init__(self): #__init__ means initialize the varible\n",
    "        print('in init')\n",
    "        \n",
    "com1 = computer()\n",
    "com2 = computer()\n",
    "com3 = computer()"
   ]
  },
  {
   "cell_type": "code",
   "execution_count": 33,
   "id": "817838e5-ca94-42cb-9874-74250e6d4484",
   "metadata": {},
   "outputs": [
    {
     "name": "stdout",
     "output_type": "stream",
     "text": [
      "in init\n",
      "i5 8gb\n"
     ]
    }
   ],
   "source": [
    "class computer:        \n",
    "    \n",
    "    def __init__(self):\n",
    "        print('in init')\n",
    "    \n",
    "    def config(self):     \n",
    "        print('i5', '8gb')\n",
    "\n",
    "com1 = computer()\n",
    "#com2 = computer()\n",
    "\n",
    "com1.config() \n",
    "#com2.config()"
   ]
  },
  {
   "cell_type": "code",
   "execution_count": 3,
   "id": "bd5df97d-e0d7-4e82-9bd0-1f039eb55169",
   "metadata": {},
   "outputs": [
    {
     "ename": "IndentationError",
     "evalue": "expected an indented block after function definition on line 3 (3853738766.py, line 6)",
     "output_type": "error",
     "traceback": [
      "\u001b[1;36m  Cell \u001b[1;32mIn[3], line 6\u001b[1;36m\u001b[0m\n\u001b[1;33m    def config(self):\u001b[0m\n\u001b[1;37m    ^\u001b[0m\n\u001b[1;31mIndentationError\u001b[0m\u001b[1;31m:\u001b[0m expected an indented block after function definition on line 3\n"
     ]
    }
   ],
   "source": [
    "class computer:        \n",
    "    \n",
    "    def __init__(self): # cpu & ram as argument\n",
    "         \n",
    "\n",
    "    def config(self):\n",
    "        print('config is')\n",
    "\n",
    "com1 = computer('i5', 8)\n",
    "com2 = computer('i7', 16)"
   ]
  },
  {
   "cell_type": "code",
   "execution_count": 5,
   "id": "0b7b70a6-0cb4-423c-8537-7ea117bbcdd3",
   "metadata": {},
   "outputs": [
    {
     "name": "stdout",
     "output_type": "stream",
     "text": [
      "config is: i5 8\n",
      "config is: i7 16\n"
     ]
    }
   ],
   "source": [
    "class computer:        \n",
    "    \n",
    "    def __init__(self,cpu,ram): # cpu & ram as argument\n",
    "        self.cpu = cpu # hear self is the object & we need to refer to the object\n",
    "        self.ram = ram \n",
    "\n",
    "  \n",
    "    def config(self):     \n",
    "        print('config is:', self.cpu, self.ram)\n",
    "\n",
    "st1_com1 = computer('i5', 8)\n",
    "st2_com2 = computer('i7', 16)\n",
    "\n",
    "\n",
    "st1_com1.config() \n",
    "st2_com2.config()\n",
    "\n",
    "#print(id(com1))\n",
    "#print(id(com2))"
   ]
  },
  {
   "cell_type": "code",
   "execution_count": 7,
   "id": "dc40ee74-5473-41db-893f-802672a23825",
   "metadata": {},
   "outputs": [
    {
     "name": "stdout",
     "output_type": "stream",
     "text": [
      "config is: i5 8 512 30000\n",
      "config is: i7 16 1000 75000\n"
     ]
    }
   ],
   "source": [
    "class computer:        \n",
    "    \n",
    "    def __init__(self,cpu,ram,memory,price): # cpu,ram,memory,price as argument\n",
    "        self.cpu = cpu # hear self is the object & we need to refer to the object\n",
    "        self.ram = ram \n",
    "        self.memory = memory\n",
    "        self.price = price\n",
    "\n",
    "  \n",
    "    def config(self):     \n",
    "        print('config is:', self.cpu, self.ram,self.memory,self.price)\n",
    "\n",
    "st1_com1 = computer('i5', 8, 512, 30000)\n",
    "st2_com2 = computer('i7', 16, 1000, 75000)\n",
    "\n",
    "\n",
    "st1_com1.config() \n",
    "st2_com2.config()\n",
    "\n",
    "#print(id(com1))\n",
    "#print(id(com2))"
   ]
  },
  {
   "cell_type": "code",
   "execution_count": null,
   "id": "8373aae7-1e1b-4c97-b24d-e80a81f9b2db",
   "metadata": {},
   "outputs": [],
   "source": []
  }
 ],
 "metadata": {
  "kernelspec": {
   "display_name": "Python 3 (ipykernel)",
   "language": "python",
   "name": "python3"
  },
  "language_info": {
   "codemirror_mode": {
    "name": "ipython",
    "version": 3
   },
   "file_extension": ".py",
   "mimetype": "text/x-python",
   "name": "python",
   "nbconvert_exporter": "python",
   "pygments_lexer": "ipython3",
   "version": "3.12.4"
  }
 },
 "nbformat": 4,
 "nbformat_minor": 5
}
